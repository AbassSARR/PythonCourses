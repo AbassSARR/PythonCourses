{
 "cells": [
  {
   "cell_type": "markdown",
   "id": "1c77a09b",
   "metadata": {},
   "source": [
    "* # Online    \n",
    "    * # online-python.com\n",
    "    * # replit.com\n",
    "    * # python.org\n",
    "    * # google colab\n",
    "* # OffLine\n",
    "    * # Installation"
   ]
  },
  {
   "cell_type": "markdown",
   "id": "ad9d6a98",
   "metadata": {},
   "source": [
    "# let's do some math"
   ]
  },
  {
   "cell_type": "code",
   "execution_count": 1,
   "id": "f70d8859",
   "metadata": {},
   "outputs": [
    {
     "data": {
      "text/plain": [
       "365"
      ]
     },
     "execution_count": 1,
     "metadata": {},
     "output_type": "execute_result"
    }
   ],
   "source": [
    "365 / 12 # 30.416666666666668\n",
    "30 * 12 # 360\n",
    "6 * 31 + 5 * 30 + 29 - 1 + 1 # 365 ou 366"
   ]
  },
  {
   "cell_type": "code",
   "execution_count": 2,
   "id": "af511c1c",
   "metadata": {},
   "outputs": [
    {
     "data": {
      "text/plain": [
       "5"
      ]
     },
     "execution_count": 2,
     "metadata": {},
     "output_type": "execute_result"
    }
   ],
   "source": [
    "365 // 12 # 30 il sagit là du quotient de la division\n",
    "365 % 12  # 5 ici on parle du reste modulo \n",
    "\n",
    "#2 // 3 division arithmétique( ici c'est le quotient qui est retourné, % rend le reste)\n",
    "#                              sinon faire un forcage de float 2.0 // 3.0\n",
    "#resteModulo_ = 2 % 3\n",
    "#puissace_ = 5**2"
   ]
  },
  {
   "cell_type": "code",
   "execution_count": 3,
   "id": "64636f8d",
   "metadata": {},
   "outputs": [],
   "source": [
    "# 1 mn = 60 s\n",
    "# 1h = 60 mn = 3600 s\n",
    "# 1j = 86400  s\n",
    "\n",
    "# 3998765 s : trouver le nombre d'heure, de minute et de second dans le nombre donné\n",
    "\n",
    "# 4562 dire si c'est un carré parfait ou non\n",
    "\n",
    "# une voiture se déplace à la vitesse de 50 km/h. quelle est le temps mis pour parcourir 25 km\n",
    "\n",
    "# Calculer la puissance cubique des nombre suivant: 45, 67\n",
    "\n",
    "# Calculer le carré des nombre suivant : 13, 25\n",
    "\n",
    "# Calculer la racine carré de 25, 144, \n",
    "# Calculer la puissance 5 ième de 625,1225, 350, 235748949"
   ]
  },
  {
   "cell_type": "code",
   "execution_count": null,
   "id": "989b2744",
   "metadata": {},
   "outputs": [],
   "source": []
  }
 ],
 "metadata": {
  "kernelspec": {
   "display_name": "Python 3 (ipykernel)",
   "language": "python",
   "name": "python3"
  },
  "language_info": {
   "codemirror_mode": {
    "name": "ipython",
    "version": 3
   },
   "file_extension": ".py",
   "mimetype": "text/x-python",
   "name": "python",
   "nbconvert_exporter": "python",
   "pygments_lexer": "ipython3",
   "version": "3.10.9"
  }
 },
 "nbformat": 4,
 "nbformat_minor": 5
}
